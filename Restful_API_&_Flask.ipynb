{
  "nbformat": 4,
  "nbformat_minor": 0,
  "metadata": {
    "colab": {
      "provenance": []
    },
    "kernelspec": {
      "name": "python3",
      "display_name": "Python 3"
    },
    "language_info": {
      "name": "python"
    }
  },
  "cells": [
    {
      "cell_type": "markdown",
      "source": [
        "**1 . What is a RESTful API?**\n",
        "\n",
        "▶A **RESTful API** is a way for software applications to communicate over the web using standard HTTP methods (GET, POST, PUT, DELETE). It treats data as **resources** (like users or posts), each with a unique URL, and typically uses **JSON** for data exchange. It follows rules like being **stateless**, meaning each request is independent.\n",
        "\n",
        "\n"
      ],
      "metadata": {
        "id": "A9TSZdtw_LQw"
      }
    },
    {
      "cell_type": "markdown",
      "source": [
        "**2 . Explain the concept of API specification?**\n",
        "\n",
        "▶An **API specification** is a detailed description of how an API works. It defines the structure, rules, and expected behavior of the API, including:\n",
        "\n",
        "* **Endpoints**: URLs where the API can be accessed (e.g., `/users`, `/products/123`)\n",
        "* **HTTP methods**: Actions allowed (e.g., GET, POST, PUT, DELETE)\n",
        "* **Request format**: What data the client must send\n",
        "* **Response format**: What data the server will return (usually in JSON or XML)\n",
        "* **Authentication**: How to securely access the API\n",
        "* **Error codes**: What errors might occur and what they mean\n",
        "\n",
        "Think of it as a **contract** between the API provider and the user—it tells developers exactly how to use the API correctly.\n",
        "\n",
        "Common formats for API specifications include:\n",
        "\n",
        "* **OpenAPI (Swagger)**\n",
        "* **RAML**\n",
        "* **API Blueprint**\n",
        "\n"
      ],
      "metadata": {
        "id": "SImIPlLX_lv4"
      }
    },
    {
      "cell_type": "markdown",
      "source": [
        "**3 . What is Flask, and why is it popular for building APIs?**\n",
        "\n",
        "▶**Flask** is a lightweight and flexible **Python web framework** used to build web applications and APIs.\n",
        "\n",
        "### Why Flask is Popular for Building APIs:\n",
        "\n",
        "1. **Minimal and Simple**\n",
        "   Flask has a small core and doesn’t impose structure, making it easy to start with just a few lines of code.\n",
        "\n",
        "2. **Easy to Learn**\n",
        "   Great for beginners and quick prototyping.\n",
        "\n",
        "3. **Extensible**\n",
        "   You can add libraries and tools as needed—like authentication, databases, or validation.\n",
        "\n",
        "4. **Built-in Development Server**\n",
        "   Makes testing and debugging easy during development.\n",
        "\n",
        "5. **Great for REST APIs**\n",
        "   With support for routes and HTTP methods, Flask is ideal for creating RESTful APIs.\n"
      ],
      "metadata": {
        "id": "hLrrroE8AkgG"
      }
    },
    {
      "cell_type": "markdown",
      "source": [
        "**4 . What is routing in Flask?**\n",
        "\n",
        "▶**Routing in Flask** is the process of mapping a URL to a specific function in your Python code. That function is called a **view function**, and it defines what should happen when a user accesses that URL.\n",
        "\n",
        "### How It Works:\n",
        "\n",
        "In Flask, you define routes using the `@app.route()` decorator.\n",
        "\n",
        "### Example:\n",
        "\n",
        "```python\n",
        "from flask import Flask\n",
        "app = Flask(__name__)\n",
        "\n",
        "@app.route('/')\n",
        "def home():\n",
        "    return \"Welcome to the homepage!\"\n",
        "```\n",
        "\n",
        "In this example:\n",
        "\n",
        "* The URL `/` is routed to the `home()` function.\n",
        "* When someone visits `http://localhost:5000/`, they’ll see: **\"Welcome to the homepage!\"**\n",
        "\n",
        "### You Can Also Specify Methods:\n",
        "\n",
        "```python\n",
        "@app.route('/submit', methods=['POST'])\n",
        "def submit():\n",
        "    return \"Data submitted!\"\n",
        "```\n",
        "\n",
        "Routing makes it easy to handle different parts of a web application or API by connecting specific URLs to specific logic.\n",
        "\n"
      ],
      "metadata": {
        "id": "A5_c-NQIBQ7S"
      }
    },
    {
      "cell_type": "markdown",
      "source": [
        "**5 .How do you create a simple Flask application?**\n",
        "\n",
        "▶\n",
        "\n",
        "#### Step-by-Step\n",
        "\n",
        "1. **Install Flask** (if not already installed):\n",
        "\n",
        "```bash\n",
        "pip install flask\n",
        "```\n",
        "\n",
        "2. **Create a Python file** (e.g., `app.py`) with the following code:\n",
        "\n",
        "```python\n",
        "from flask import Flask\n",
        "\n",
        "app = Flask(__name__)  # Create Flask app\n",
        "\n",
        "@app.route('/')         # Define route for homepage\n",
        "def home():\n",
        "    return \"Hello, Flask!\"  # Response when visiting \"/\"\n",
        "\n",
        "if __name__ == '__main__':\n",
        "    app.run(debug=True)  # Start the server\n",
        "```\n",
        "\n",
        "3. **Run the app**:\n",
        "\n",
        "```bash\n",
        "python app.py\n",
        "```\n",
        "\n",
        "4. **Visit in browser**:\n",
        "   Go to `http://localhost:5000/` and you’ll see:\n",
        "\n",
        "```\n",
        "Hello, Flask!\n",
        "```\n",
        "\n",
        "\n"
      ],
      "metadata": {
        "id": "1wUCTD1qFW86"
      }
    },
    {
      "cell_type": "markdown",
      "source": [
        "***6 . What are HTTP methods used in RESTful APIs?***\n",
        "\n",
        "▶In RESTful APIs, the main **HTTP methods** are used to perform actions on resources. Here's a quick summary:\n",
        "\n",
        "| Method     | Purpose               | Example Use Case                    |\n",
        "| ---------- | --------------------- | ----------------------------------- |\n",
        "| **GET**    | Retrieve data         | Get a list of users (`GET /users`)  |\n",
        "| **POST**   | Create new data       | Add a new user (`POST /users`)      |\n",
        "| **PUT**    | Update existing data  | Replace user data (`PUT /users/1`)  |\n",
        "| **PATCH**  | Partially update data | Update one field (`PATCH /users/1`) |\n",
        "| **DELETE** | Remove data           | Delete a user (`DELETE /users/1`)   |\n",
        "\n",
        "These methods follow the CRUD operations:\n",
        "\n",
        "* **C**reate → POST\n",
        "* **R**ead → GET\n",
        "* **U**pdate → PUT/PATCH\n",
        "* **D**elete → DELETE\n",
        "\n",
        "Each method helps keep APIs clean, predictable, and easy to use.\n",
        "\n"
      ],
      "metadata": {
        "id": "JPZxQ6BNGew_"
      }
    },
    {
      "cell_type": "markdown",
      "source": [
        "**7 . What is the purpose of the @app.route() decorator in Flask?**\n",
        "\n",
        "▶The `@app.route()` decorator in Flask is used to **define a route**—it connects a **URL path** to a **Python function** (called a view function).\n",
        "\n",
        "### Purpose:\n",
        "\n",
        "It tells Flask:\n",
        "**“When someone visits this URL, run this function.”**\n",
        "\n",
        "---\n",
        "\n",
        "### Example:\n",
        "\n",
        "```python\n",
        "from flask import Flask\n",
        "app = Flask(__name__)\n",
        "\n",
        "@app.route('/hello')\n",
        "def say_hello():\n",
        "    return \"Hello, World!\"\n",
        "```\n",
        "\n",
        "In this case:\n",
        "\n",
        "* Visiting `http://localhost:5000/hello` runs the `say_hello()` function.\n",
        "* The user sees: **\"Hello, World!\"**\n"
      ],
      "metadata": {
        "id": "ioeTUb1THBXs"
      }
    },
    {
      "cell_type": "markdown",
      "source": [
        "**8 . What is the difference between GET and POST HTTP methods?**\n",
        "\n",
        "▶Here’s the key difference between **GET** and **POST** HTTP methods:\n",
        "\n",
        "| Aspect              | GET                                                        | POST                                                                     |\n",
        "| ------------------- | ---------------------------------------------------------- | ------------------------------------------------------------------------ |\n",
        "| **Purpose**         | Retrieve data from the server                              | Send data to the server to create or update something                    |\n",
        "| **Data in Request** | Sent in the URL as query parameters (visible)              | Sent in the request body (hidden)                                        |\n",
        "| **Caching**         | Can be cached by browsers                                  | Not usually cached                                                       |\n",
        "| **Idempotent**      | Yes — multiple identical GET requests have the same effect | Not necessarily idempotent; multiple POSTs may create multiple resources |\n",
        "| **Use Case**        | Fetching web pages, data queries                           | Submitting form data, uploading files                                    |\n",
        "\n",
        "---\n",
        "\n",
        "### Summary:\n",
        "\n",
        "**GET** requests retrieve data without side effects, while **POST** requests send data to change server state.\n"
      ],
      "metadata": {
        "id": "IA-pazhsHbig"
      }
    },
    {
      "cell_type": "markdown",
      "source": [
        "**9 . How do you handle errors in Flask APIs?**\n",
        "\n",
        "\n",
        "▶\n",
        "\n",
        "### Error Handling in Flask APIs\n",
        "\n",
        "In Flask, error handling is crucial to ensure that your API responds gracefully when something goes wrong, providing meaningful feedback to clients instead of crashing or returning confusing responses.\n",
        "\n",
        "Flask offers several ways to handle errors:\n",
        "\n",
        "1. **Using HTTP Error Codes with `abort()`**\n",
        "   You can use the `abort()` function to immediately stop the request and return a specific HTTP error code. For example, if a requested resource is not found, you can abort with a 404 status code.\n",
        "\n",
        "2. **Custom Error Handlers**\n",
        "   Flask allows you to define custom error handler functions for different HTTP error codes (like 404 Not Found or 500 Internal Server Error). These handlers enable you to customize the error response, often returning JSON messages that describe the error clearly.\n",
        "\n",
        "3. **Exception Handling with Try-Except Blocks**\n",
        "   Within your route functions, you can use Python’s standard `try-except` blocks to catch exceptions and return appropriate error responses. This helps manage unexpected issues such as invalid inputs or runtime errors.\n",
        "\n",
        "---\n",
        "\n",
        "### Benefits of Proper Error Handling\n",
        "\n",
        "* **Improves API reliability** by preventing crashes.\n",
        "* **Provides clear feedback** to API users about what went wrong.\n",
        "* **Enables consistent error responses**, making client-side error handling easier.\n",
        "* **Helps with debugging and maintenance** by defining clear error pathways.\n"
      ],
      "metadata": {
        "id": "0GIvoQoKH2wr"
      }
    },
    {
      "cell_type": "markdown",
      "source": [
        "**10 . How do you connect Flask to a SQL database?**\n",
        "\n",
        "▶\n",
        "### Common Steps to Connect Flask to a SQL Database:\n",
        "\n",
        "1. **Choose a Database and Driver**\n",
        "   For example:\n",
        "\n",
        "   * SQLite (built-in, good for small apps)\n",
        "   * MySQL (via `mysql-connector-python` or `PyMySQL`)\n",
        "   * PostgreSQL (via `psycopg2`)\n",
        "\n",
        "2. **Install Required Packages**\n",
        "   For example, to use SQLite with Flask’s ORM (SQLAlchemy):\n",
        "\n",
        "   ```bash\n",
        "   pip install flask_sqlalchemy\n",
        "   ```\n",
        "\n",
        "3. **Configure the Database URI in Flask**\n",
        "   In your Flask app config, set the database URI:\n",
        "\n",
        "   ```python\n",
        "   app.config['SQLALCHEMY_DATABASE_URI'] = 'sqlite:///mydatabase.db'\n",
        "   ```\n",
        "\n",
        "4. **Initialize the Database with Flask-SQLAlchemy**\n",
        "\n",
        "   ```python\n",
        "   from flask_sqlalchemy import SQLAlchemy\n",
        "\n",
        "   db = SQLAlchemy(app)\n",
        "   ```\n",
        "\n",
        "5. **Define Models (Tables)**\n",
        "\n",
        "   ```python\n",
        "   class User(db.Model):\n",
        "       id = db.Column(db.Integer, primary_key=True)\n",
        "       name = db.Column(db.String(80), nullable=False)\n",
        "   ```\n",
        "\n",
        "6. **Create the Database Tables**\n",
        "\n",
        "   ```python\n",
        "   with app.app_context():\n",
        "       db.create_all()\n",
        "   ```\n",
        "\n",
        "7. **Perform CRUD Operations Using the ORM**\n",
        "\n",
        "   ```python\n",
        "   user = User(name=\"Alice\")\n",
        "   db.session.add(user)\n",
        "   db.session.commit()\n",
        "   ```\n",
        "\n",
        "---\n",
        "\n",
        "### Summary:\n",
        "\n",
        "* Use **Flask-SQLAlchemy** for easier integration and ORM features.\n",
        "* Configure your database connection via `SQLALCHEMY_DATABASE_URI`.\n",
        "* Define Python classes as models representing your tables.\n",
        "* Use SQLAlchemy’s session to add, update, delete, and query data.\n"
      ],
      "metadata": {
        "id": "FKu9bYq6IYIl"
      }
    },
    {
      "cell_type": "markdown",
      "source": [
        "**11 . What is the role of Flask-SQLAlchemy?**\n",
        "\n",
        "▶**Flask-SQLAlchemy** is an extension for Flask that simplifies using **SQLAlchemy**, a powerful Python ORM (Object-Relational Mapper), with Flask applications.\n",
        "\n",
        "### Role of Flask-SQLAlchemy:\n",
        "\n",
        "* **Integration:** It seamlessly integrates SQLAlchemy with Flask, handling configuration and setup so you can focus on defining models and queries.\n",
        "* **ORM Support:** Provides a high-level, Pythonic way to interact with relational databases by mapping Python classes to database tables.\n",
        "* **Database Abstraction:** Lets you write database-agnostic code that works with different SQL databases (SQLite, MySQL, PostgreSQL, etc.) without changing your code.\n",
        "* **Simplifies CRUD Operations:** Makes it easier to create, read, update, and delete database records using Python objects.\n",
        "* **Manages Connections:** Handles database connections and sessions efficiently within the Flask app context.\n"
      ],
      "metadata": {
        "id": "0GQeKQnLJJQS"
      }
    },
    {
      "cell_type": "markdown",
      "source": [
        "**12 . What are Flask blueprints, and how are they useful?**\n",
        "\n",
        "▶\n",
        "\n",
        "**Flask Blueprints** are a way to organize a Flask application into smaller, modular components. They allow you to break your app into multiple files or modules, each handling a specific feature or part of the application (like user authentication, admin panel, API routes, etc.).\n",
        "\n",
        "---\n",
        "\n",
        "### Why Blueprints Are Useful:\n",
        "\n",
        "1. **Modular Structure:**\n",
        "   Makes your application easier to develop, test, and maintain by keeping related code together.\n",
        "\n",
        "2. **Reusability:**\n",
        "   You can reuse blueprints across different applications or projects.\n",
        "\n",
        "3. **Separation of Concerns:**\n",
        "   Keeps the main app clean and focused by separating route definitions, views, and logic into their own modules.\n",
        "\n",
        "4. **Collaboration:**\n",
        "   Makes it easier for teams to work on different parts of the app simultaneously.\n",
        "\n",
        "---\n",
        "\n",
        "### Real-World Analogy:\n",
        "\n",
        "Think of a blueprint as a **mini app** inside your main app — it has its own routes, templates, and static files, and can be registered to the main app when needed.\n",
        "\n"
      ],
      "metadata": {
        "id": "IT7mDmtbJuop"
      }
    },
    {
      "cell_type": "markdown",
      "source": [
        "**13 . What is the purpose of Flask's request object?**\n",
        "\n",
        "▶\n",
        "\n",
        "The **`request` object** in Flask is used to access **data sent by the client** to the server during an HTTP request.\n",
        "\n",
        "---\n",
        "\n",
        "### Key Roles of the `request` Object:\n",
        "\n",
        "1. **Accessing Form Data**\n",
        "   Retrieve form fields sent via POST:\n",
        "\n",
        "   ```python\n",
        "   request.form['username']\n",
        "   ```\n",
        "\n",
        "2. **Accessing Query Parameters**\n",
        "   Get data from the URL:\n",
        "\n",
        "   ```python\n",
        "   request.args['search']\n",
        "   ```\n",
        "\n",
        "3. **Getting JSON Data**\n",
        "   Access raw JSON payloads:\n",
        "\n",
        "   ```python\n",
        "   request.get_json()\n",
        "   ```\n",
        "\n",
        "4. **Reading Headers**\n",
        "   View HTTP headers:\n",
        "\n",
        "   ```python\n",
        "   request.headers['User-Agent']\n",
        "   ```\n",
        "\n",
        "5. **Checking Request Method**\n",
        "   Determine if it's a GET, POST, etc.:\n",
        "\n",
        "   ```python\n",
        "   request.method\n",
        "   ```\n",
        "\n",
        "6. **File Uploads**\n",
        "   Handle files uploaded via forms:\n",
        "\n",
        "   ```python\n",
        "   request.files['file']\n",
        "   ```\n",
        "\n",
        "---\n",
        "\n",
        "### Summary:\n",
        "\n",
        "Flask’s `request` object is essential for handling incoming client data, making it possible to process form inputs, API payloads, headers, and more in your application.\n",
        "\n"
      ],
      "metadata": {
        "id": "N03iRrq1KOan"
      }
    },
    {
      "cell_type": "markdown",
      "source": [
        "**14 . How do you create a RESTful API endpoint using Flask?**\n",
        "\n",
        "▶\n",
        "\n",
        "To create a RESTful API endpoint in Flask, you define a **route** using the `@app.route()` decorator and specify the **HTTP method** (e.g., GET, POST). Inside the route's function (called a view function), you handle the logic and return a **JSON response**.\n",
        "\n",
        "---\n",
        "\n",
        "### Key Steps:\n",
        "\n",
        "1. **Import Flask and JSON tools**\n",
        "\n",
        "   * Use `Flask`, `request` (for input), and `jsonify` (for output).\n",
        "\n",
        "2. **Create a route with `@app.route()`**\n",
        "\n",
        "   * Specify the URL path and allowed HTTP methods.\n",
        "\n",
        "3. **Write the view function**\n",
        "\n",
        "   * Handle incoming data and return a response, typically in JSON.\n",
        "\n",
        "---\n",
        "\n",
        "### Example (Theory + Structure):\n",
        "\n",
        "```python\n",
        "from flask import Flask, request, jsonify\n",
        "\n",
        "app = Flask(__name__)\n",
        "\n",
        "# A RESTful GET endpoint\n",
        "@app.route('/api/user/<int:user_id>', methods=['GET'])\n",
        "def get_user(user_id):\n",
        "    # Simulate fetching user from database\n",
        "    user = {\"id\": user_id, \"name\": \"Alice\"}\n",
        "    return jsonify(user), 200  # Return JSON and HTTP 200 OK\n",
        "```\n",
        "\n",
        "---\n",
        "\n",
        "### Summary:\n",
        "\n",
        "To create a RESTful endpoint in Flask:\n",
        "\n",
        "* Use `@app.route()` with URL and method\n",
        "* Process data with `request`\n",
        "* Respond using `jsonify`\n",
        "* Return proper HTTP status codes\n"
      ],
      "metadata": {
        "id": "xCVINISLLYxb"
      }
    },
    {
      "cell_type": "markdown",
      "source": [
        "**15 . What is the purpose of Flask's jsonify() function?**\n",
        "\n",
        "▶\n",
        "\n",
        "The **`jsonify()`** function in Flask is used to **convert Python data (like dictionaries or lists) into a valid JSON response**. It automatically sets the correct **Content-Type header** (`application/json`) and ensures the output is properly formatted as JSON.\n",
        "\n",
        "---\n",
        "\n",
        "### Why `jsonify()` is Important:\n",
        "\n",
        "1. **Converts Python to JSON**\n",
        "   Automatically converts Python dicts, lists, etc., into JSON strings.\n",
        "\n",
        "2. **Sets Proper Headers**\n",
        "   Ensures the response has the correct `Content-Type: application/json`.\n",
        "\n",
        "3. **Safe and Convenient**\n",
        "   Handles special characters and ensures the output is safe and standards-compliant.\n",
        "\n",
        "---\n",
        "\n",
        "### Example:\n",
        "\n",
        "```python\n",
        "from flask import jsonify\n",
        "\n",
        "@app.route('/api/data')\n",
        "def get_data():\n",
        "    data = {\"name\": \"Alice\", \"age\": 30}\n",
        "    return jsonify(data)\n",
        "```\n",
        "\n",
        "This returns:\n",
        "\n",
        "```json\n",
        "{\n",
        "  \"name\": \"Alice\",\n",
        "  \"age\": 30\n",
        "}\n",
        "```\n",
        "\n",
        "---\n",
        "\n",
        "### Summary:\n",
        "\n",
        "`jsonify()` is used in Flask APIs to create clean, correct, and safe **JSON responses** from Python data, making it essential for building RESTful services.\n"
      ],
      "metadata": {
        "id": "p7YR1jgyL3Nh"
      }
    },
    {
      "cell_type": "markdown",
      "source": [
        "**16 . Explain Flask’s url\\_for() function**\n",
        "\n",
        "▶\n",
        "The **`url_for()`** function in Flask is used to **build URLs dynamically** for view functions based on their names. Instead of hardcoding URLs, you use `url_for()` to generate them. This makes your app more flexible and maintainable.\n",
        "\n",
        "---\n",
        "\n",
        "### Purpose of `url_for()`:\n",
        "\n",
        "1. **Avoid Hardcoding URLs**\n",
        "   Automatically generates the correct URL even if routes change.\n",
        "\n",
        "2. **Supports Dynamic URLs**\n",
        "   Handles route parameters like IDs or usernames.\n",
        "\n",
        "3. **Improves Maintainability**\n",
        "   Makes the code easier to update and less error-prone.\n",
        "\n",
        "---\n",
        "\n",
        "### How It Works:\n",
        "\n",
        "If you have a route like:\n",
        "\n",
        "```python\n",
        "@app.route('/user/<username>')\n",
        "def profile(username):\n",
        "    ...\n",
        "```\n",
        "\n",
        "You can generate its URL with:\n",
        "\n",
        "```python\n",
        "url_for('profile', username='john')\n",
        "# Returns: '/user/john'\n",
        "```\n",
        "\n",
        "---\n",
        "\n",
        "### Summary:\n",
        "\n",
        "Flask’s `url_for()` helps create URLs by referring to the **function name** instead of writing paths manually. It makes your code **cleaner, dynamic**, and easier to update.\n"
      ],
      "metadata": {
        "id": "6UHwEAnzMkyY"
      }
    },
    {
      "cell_type": "markdown",
      "source": [
        "**17 . How does Flask handle static files (CSS, JavaScript, etc.)?**\n",
        "\n",
        "▶\n",
        "Flask serves **static files** (like CSS, JavaScript, images) from a special folder named **`static/`** by default. These files are not processed by Flask but are delivered directly to the client (browser) as-is.\n",
        "\n",
        "---\n",
        "\n",
        "### Key Points:\n",
        "\n",
        "1. **Default Static Folder:**\n",
        "   Flask automatically looks for a folder named `static` in the root of your project.\n",
        "\n",
        "2. **Accessing Static Files:**\n",
        "   You use the `url_for()` function to generate the correct URL for static files:\n",
        "\n",
        "   ```html\n",
        "   <link rel=\"stylesheet\" href=\"{{ url_for('static', filename='style.css') }}\">\n",
        "   ```\n",
        "\n",
        "3. **Folder Structure Example:**\n",
        "\n",
        "   ```\n",
        "   my_flask_app/\n",
        "   ├── app.py\n",
        "   ├── static/\n",
        "   │   ├── style.css\n",
        "   │   └── script.js\n",
        "   └── templates/\n",
        "       └── index.html\n",
        "   ```\n",
        "\n",
        "4. **Behind the Scenes:**\n",
        "   When the browser requests a static file (like `/static/style.css`), Flask serves it directly from the filesystem without passing through your Python logic.\n",
        "\n",
        "---\n",
        "\n",
        "### Summary:\n",
        "\n",
        "Flask handles static files by serving them from a special `static/` directory, and `url_for('static', filename='...')` is used to link to them safely in HTML templates.\n"
      ],
      "metadata": {
        "id": "cHATQ1-wNabY"
      }
    },
    {
      "cell_type": "markdown",
      "source": [
        "**18 . What is an API specification, and how does it help in building a Flask API?**\n",
        "\n",
        "▶\n",
        "An **API specification** is a **formal, structured description** of how an API works. It defines the available endpoints, HTTP methods, input parameters, response formats, data types, and error messages.\n",
        "\n",
        "---\n",
        "\n",
        "### How It Helps in Building a Flask API:\n",
        "\n",
        "1. **Clear Blueprint:**\n",
        "   Acts as a guide for developers to understand what the API should do before writing any code.\n",
        "\n",
        "2. **Consistency:**\n",
        "   Ensures that different parts of the API follow the same structure, naming conventions, and behavior.\n",
        "\n",
        "3. **Documentation:**\n",
        "   Helps automatically generate user-friendly API documentation (e.g., with Swagger or Postman).\n",
        "\n",
        "4. **Team Collaboration:**\n",
        "   Makes it easier for frontend and backend developers to work in parallel by agreeing on the API contract in advance.\n",
        "\n",
        "5. **Testing and Validation:**\n",
        "   Supports automated tools that can test whether the Flask API matches the defined behavior.\n",
        "\n",
        "---\n",
        "\n",
        "### Summary:\n",
        "\n",
        "An **API specification** is a detailed plan that defines how your API should function. In Flask development, it ensures your API is well-organized, consistent, and easier to document, test, and collaborate on.\n"
      ],
      "metadata": {
        "id": "FzXz_cEWN6m3"
      }
    },
    {
      "cell_type": "markdown",
      "source": [
        "**19 . What are HTTP status codes, and why are they important in a Flask API?**\n",
        "\n",
        "▶\n",
        "\n",
        "**HTTP status codes** are 3-digit numbers returned by a web server to indicate the **result of a client’s request**. They help both humans and programs understand what happened during the request.\n",
        "\n",
        "---\n",
        "\n",
        "### Categories of Status Codes:\n",
        "\n",
        "| Code Range | Meaning       | Example Code | Description             |\n",
        "| ---------- | ------------- | ------------ | ----------------------- |\n",
        "| 1xx        | Informational | 100          | Continue                |\n",
        "| 2xx        | Success       | 200          | OK (Request successful) |\n",
        "| 3xx        | Redirection   | 302          | Found (Redirect)        |\n",
        "| 4xx        | Client Error  | 404          | Not Found (Invalid URL) |\n",
        "| 5xx        | Server Error  | 500          | Internal Server Error   |\n",
        "\n",
        "---\n",
        "\n",
        "### Why They Are Important in a Flask API:\n",
        "\n",
        "1. **Communicate Results Clearly:**\n",
        "   Status codes tell the client if the request was successful or if something went wrong.\n",
        "\n",
        "2. **Support Debugging:**\n",
        "   Makes it easier to identify problems (e.g., 400 for bad input, 404 for missing data).\n",
        "\n",
        "3. **Enable Proper Client Behavior:**\n",
        "   Clients (like browsers or frontend apps) use status codes to decide how to respond (e.g., retry on 503, show error on 403).\n",
        "\n",
        "4. **Improve API Design:**\n",
        "   Returning correct status codes ensures your API behaves consistently and predictably.\n",
        "\n",
        "---\n",
        "\n",
        "### Summary:\n",
        "\n",
        "HTTP status codes are essential in Flask APIs because they **communicate the outcome** of requests, **guide client actions**, and help with **debugging and error handling**.\n"
      ],
      "metadata": {
        "id": "yZB4yq1VOXro"
      }
    },
    {
      "cell_type": "markdown",
      "source": [
        "**20 . How do you handle POST requests in Flask?**\n",
        "\n",
        "▶\n",
        "\n",
        "In Flask, a **POST request** is used when a client sends data to the server, usually to **create or submit** something (like form data or JSON).\n",
        "\n",
        "---\n",
        "\n",
        "### Key Steps to Handle POST Requests:\n",
        "\n",
        "1. **Define a route with POST method**\n",
        "   Use `@app.route()` and set `methods=['POST']`.\n",
        "\n",
        "2. **Access the data using `request` object**\n",
        "\n",
        "   * `request.form` → for form data\n",
        "   * `request.get_json()` → for JSON data\n",
        "\n",
        "3. **Process the data**\n",
        "   Perform any logic (e.g. saving to database).\n",
        "\n",
        "4. **Return a response**\n",
        "   Use `jsonify()` to send a JSON response back.\n",
        "\n",
        "---\n",
        "\n",
        "### Summary:\n",
        "\n",
        "Flask handles POST requests by creating a route with `methods=['POST']` and using the `request` object to access the sent data. This is commonly used to process forms, submit data, or create new resources in a RESTful API.\n"
      ],
      "metadata": {
        "id": "_QVXbmG_OzuV"
      }
    },
    {
      "cell_type": "markdown",
      "source": [
        "**21 . How would you secure a Flask API?**\n",
        "\n",
        "▶\n",
        "\n",
        "Securing a Flask API is essential to protect data, prevent unauthorized access, and ensure safe communication. Below are key strategies to secure a Flask API:\n",
        "\n",
        "---\n",
        "\n",
        "### 1. **Authentication**\n",
        "\n",
        "* Use methods like **API keys**, **JWT (JSON Web Tokens)**, or **OAuth** to verify who is accessing the API.\n",
        "* Example: Require a token in headers and verify it before processing the request.\n",
        "\n",
        "### 2. **Authorization**\n",
        "\n",
        "* Control **what users can do** based on their roles or permissions.\n",
        "* Example: Admins can delete data; regular users can only read it.\n",
        "\n",
        "### 3. **Input Validation and Sanitization**\n",
        "\n",
        "* Validate all incoming data to prevent **SQL injection**, **XSS**, and other attacks.\n",
        "* Use libraries like `marshmallow` or built-in validation methods.\n",
        "\n",
        "### 4. **HTTPS (SSL/TLS)**\n",
        "\n",
        "* Ensure all communication happens over **HTTPS** to encrypt data in transit.\n",
        "\n",
        "### 5. **Rate Limiting**\n",
        "\n",
        "* Limit the number of requests a client can make to prevent **abuse** or **DDoS attacks**.\n",
        "* Use tools like `Flask-Limiter`.\n",
        "\n",
        "### 6. **CORS (Cross-Origin Resource Sharing)**\n",
        "\n",
        "* Use `Flask-CORS` to control which domains are allowed to access your API.\n",
        "\n",
        "### 7. **Error Handling**\n",
        "\n",
        "* Avoid showing sensitive error messages that might reveal system details.\n",
        "\n",
        "### 8. **Use Secure Headers**\n",
        "\n",
        "* Add headers like `Content-Security-Policy`, `X-Frame-Options`, etc., to protect against common web vulnerabilities.\n",
        "\n",
        "---\n",
        "\n",
        "### Summary:\n",
        "\n",
        "To secure a Flask API, you must implement **authentication**, **authorization**, **input validation**, **HTTPS**, **rate limiting**, and other best practices. These measures protect both the API and its users from unauthorized access and malicious activity.\n",
        "\n"
      ],
      "metadata": {
        "id": "_4klAibePJEU"
      }
    },
    {
      "cell_type": "markdown",
      "source": [
        "**22 . What is the significance of the Flask-RESTful extension?**\n",
        "\n",
        "▶\n",
        "\n",
        "**Flask-RESTful** is an extension for Flask that simplifies building RESTful APIs by providing helpful abstractions and tools.\n",
        "\n",
        "---\n",
        "\n",
        "### Key Benefits and Significance:\n",
        "\n",
        "1. **Simplifies API Development**\n",
        "   Provides classes like `Resource` to structure API endpoints cleanly, reducing boilerplate code.\n",
        "\n",
        "2. **Built-in Request Parsing**\n",
        "   Supports easy parsing and validation of incoming request data via `reqparse`.\n",
        "\n",
        "3. **Automatic Response Formatting**\n",
        "   Helps serialize Python objects into JSON responses seamlessly.\n",
        "\n",
        "4. **Supports HTTP Methods Naturally**\n",
        "   Lets you define handlers for HTTP verbs (`GET`, `POST`, `PUT`, `DELETE`) within resource classes.\n",
        "\n",
        "5. **Improves Organization**\n",
        "   Encourages an object-oriented approach to organizing endpoints, making large APIs easier to maintain.\n",
        "\n",
        "6. **Integrates Well with Flask**\n",
        "   Works smoothly with Flask’s routing and extensions while adding REST-specific features.\n",
        "\n",
        "---\n",
        "\n",
        "### Summary:\n",
        "\n",
        "Flask-RESTful enhances Flask by providing tools tailored for REST API development, making it faster, cleaner, and more structured to build scalable RESTful services.\n"
      ],
      "metadata": {
        "id": "4qH4vhoKPkjT"
      }
    },
    {
      "cell_type": "markdown",
      "source": [
        "**23 . What is the role of Flask’s session object?**\n",
        "\n",
        "▶\n",
        "\n",
        "The **`session`** object in Flask is used to **store data specific to a user’s session** between requests. It enables your application to remember information about a user as they navigate through different pages or make multiple requests.\n",
        "\n",
        "---\n",
        "\n",
        "### Key Points:\n",
        "\n",
        "1. **User-Specific Storage:**\n",
        "   Data in `session` is unique to each user and persists across multiple requests during their visit.\n",
        "\n",
        "2. **Stored Securely:**\n",
        "   Flask stores session data on the client-side in cookies, but it is **signed** to prevent tampering.\n",
        "\n",
        "3. **Common Uses:**\n",
        "\n",
        "   * Tracking user login status\n",
        "   * Storing preferences or temporary data\n",
        "   * Managing shopping carts in e-commerce apps\n",
        "\n",
        "4. **Limited Size:**\n",
        "   Since session data is stored in cookies, it should be kept small (a few KBs).\n",
        "\n",
        "---\n",
        "\n",
        "### Summary:\n",
        "\n",
        "Flask’s `session` object provides a simple way to store and retrieve **user-specific information securely** across multiple requests, enabling features like login persistence and personalized experiences.\n"
      ],
      "metadata": {
        "id": "A455ZnHGP9RJ"
      }
    },
    {
      "cell_type": "markdown",
      "source": [
        "# **Practical**"
      ],
      "metadata": {
        "id": "yWDzQlPjQR5F"
      }
    },
    {
      "cell_type": "code",
      "source": [
        "!pip install flask-ngrok\n"
      ],
      "metadata": {
        "id": "lgrvPl72GiAw"
      },
      "execution_count": null,
      "outputs": []
    },
    {
      "cell_type": "code",
      "source": [
        "from flask import Flask\n",
        "\n",
        "app = Flask(__app.py__)\n",
        "\n",
        "@app.route('/')\n",
        "def home():\n",
        "    return 'Hello, Flask!'\n",
        "\n",
        "if __name__ == '__main__':\n",
        "    app.run(debug=True)\n"
      ],
      "metadata": {
        "colab": {
          "base_uri": "https://localhost:8080/"
        },
        "id": "Sby05522HS2F",
        "outputId": "b17752e9-8274-40e6-b376-3b717e8d61f0"
      },
      "execution_count": null,
      "outputs": [
        {
          "output_type": "stream",
          "name": "stdout",
          "text": [
            " * Serving Flask app '__main__'\n",
            " * Debug mode: on\n"
          ]
        },
        {
          "output_type": "stream",
          "name": "stderr",
          "text": [
            "INFO:werkzeug:\u001b[31m\u001b[1mWARNING: This is a development server. Do not use it in a production deployment. Use a production WSGI server instead.\u001b[0m\n",
            " * Running on http://127.0.0.1:5000\n",
            "INFO:werkzeug:\u001b[33mPress CTRL+C to quit\u001b[0m\n",
            "INFO:werkzeug: * Restarting with stat\n"
          ]
        }
      ]
    },
    {
      "cell_type": "code",
      "source": [
        "python app.py\n"
      ],
      "metadata": {
        "id": "YrV18bwdHuLt"
      },
      "execution_count": null,
      "outputs": []
    },
    {
      "cell_type": "code",
      "source": [
        "#2 .How do you serve static files like images or CSS in Flask?\n",
        "my_flask_app/\n",
        "│\n",
        "├── app.py\n",
        "├── static/\n",
        "│   ├── style.css\n",
        "│   └── image.png\n",
        "└── templates/\n",
        "    └── index.html\n"
      ],
      "metadata": {
        "id": "ytSNi1YeHx5i"
      },
      "execution_count": null,
      "outputs": []
    },
    {
      "cell_type": "code",
      "source": [
        "<!DOCTYPE html>\n",
        "<html>\n",
        "<head>\n",
        "    <link rel=\"stylesheet\" href=\"{{ url_for('static', filename='style.css') }}\">\n",
        "</head>\n",
        "<body>\n",
        "    <h1>Welcome</h1>\n",
        "    <img src=\"{{ url_for('static', filename='image.png') }}\" alt=\"Sample Image\">\n",
        "</body>\n",
        "</html>\n"
      ],
      "metadata": {
        "id": "-qBhQ6iOIMip"
      },
      "execution_count": null,
      "outputs": []
    },
    {
      "cell_type": "code",
      "source": [
        "from flask import Flask, render_template\n",
        "\n",
        "app = Flask(__name__)\n",
        "\n",
        "@app.route('/')\n",
        "def home():\n",
        "    return render_template('index.html')\n",
        "\n",
        "if __name__ == '__main__':\n",
        "    app.run(debug=True)\n"
      ],
      "metadata": {
        "id": "lcpv6hIrIQQ2"
      },
      "execution_count": null,
      "outputs": []
    },
    {
      "cell_type": "code",
      "source": [
        "#3 . How do you define different routes with different HTTP methods in Flask\n",
        "from flask import Flask, request\n",
        "\n",
        "app = Flask(__name__)\n",
        "\n",
        "@app.route('/submit', methods=['GET', 'POST'])\n",
        "def submit():\n",
        "    if request.method == 'POST':\n",
        "        return 'Form submitted via POST!'\n",
        "    else:\n",
        "        return 'Submit the form using GET.'\n",
        "\n",
        "if __name__ == '__main__':\n",
        "    app.run(debug=True)\n"
      ],
      "metadata": {
        "id": "afosg46sIUux"
      },
      "execution_count": null,
      "outputs": []
    },
    {
      "cell_type": "code",
      "source": [
        "@app.route('/data', methods=['GET'])\n",
        "def get_data():\n",
        "    return 'This is a GET request.'\n",
        "\n",
        "@app.route('/data', methods=['POST'])\n",
        "def post_data():\n",
        "    return 'This is a POST request.'\n"
      ],
      "metadata": {
        "id": "7HG6Ro9oIuLL"
      },
      "execution_count": null,
      "outputs": []
    },
    {
      "cell_type": "code",
      "source": [
        "<form action=\"/submit\" method=\"post\">\n",
        "    <input type=\"text\" name=\"data\">\n",
        "    <input type=\"submit\" value=\"Submit\">\n",
        "</form>\n"
      ],
      "metadata": {
        "id": "QeyWD7HgIxcV"
      },
      "execution_count": null,
      "outputs": []
    },
    {
      "cell_type": "code",
      "source": [
        "from flask import render_template\n",
        "\n",
        "@app.route('/')\n",
        "def form():\n",
        "    return render_template('form.html')\n"
      ],
      "metadata": {
        "id": "oT4juOIyIz8z"
      },
      "execution_count": null,
      "outputs": []
    },
    {
      "cell_type": "code",
      "source": [
        "#4 . How do you render HTML templates in Flask?\n",
        "my_flask_app/\n",
        "│\n",
        "├── app.py\n",
        "└── templates/\n",
        "    ├── index.html\n",
        "    └── about.html\n"
      ],
      "metadata": {
        "id": "RpktAAPtI4Ve"
      },
      "execution_count": null,
      "outputs": []
    },
    {
      "cell_type": "code",
      "source": [
        "from flask import Flask, render_template\n",
        "\n",
        "app = Flask(__name__)\n",
        "\n",
        "@app.route('/')\n",
        "def home():\n",
        "    return render_template('index.html')\n",
        "\n",
        "@app.route('/about')\n",
        "def about():\n",
        "    return render_template('about.html')\n",
        "\n",
        "if __name__ == '__main__':\n",
        "    app.run(debug=True)\n"
      ],
      "metadata": {
        "id": "GXDdT06_JNtM"
      },
      "execution_count": null,
      "outputs": []
    },
    {
      "cell_type": "code",
      "source": [
        "<!DOCTYPE html>\n",
        "<html>\n",
        "<head>\n",
        "    <title>Home</title>\n",
        "</head>\n",
        "<body>\n",
        "    <h1>Welcome to Flask!</h1>\n",
        "    <a href=\"/about\">About Us</a>\n",
        "</body>\n",
        "</html>\n"
      ],
      "metadata": {
        "id": "tXlNounYJRb7"
      },
      "execution_count": null,
      "outputs": []
    },
    {
      "cell_type": "code",
      "source": [
        "<!DOCTYPE html>\n",
        "<html>\n",
        "<head>\n",
        "    <title>About</title>\n",
        "</head>\n",
        "<body>\n",
        "    <h1>This is the About page.</h1>\n",
        "    <a href=\"/\">Back to Home</a>\n",
        "</body>\n",
        "</html>\n"
      ],
      "metadata": {
        "id": "maCWcl9wJVf3"
      },
      "execution_count": null,
      "outputs": []
    },
    {
      "cell_type": "code",
      "source": [
        "@app.route('/user/<name>')\n",
        "def user(name):\n",
        "    return render_template('user.html', username=name)\n"
      ],
      "metadata": {
        "id": "OuVi5CPYJaZf"
      },
      "execution_count": null,
      "outputs": []
    },
    {
      "cell_type": "code",
      "source": [
        "<h1>Hello, {{ username }}!</h1>\n"
      ],
      "metadata": {
        "id": "En3CqAw5Jdbm"
      },
      "execution_count": null,
      "outputs": []
    },
    {
      "cell_type": "code",
      "source": [
        "#5 . How can you generate URLs for routes in Flask using url\\_for?\n",
        "\n",
        "url_for('function_name', **params)\n"
      ],
      "metadata": {
        "id": "cU-ESM5eJicG"
      },
      "execution_count": null,
      "outputs": []
    },
    {
      "cell_type": "code",
      "source": [
        "from flask import Flask, url_for, redirect\n",
        "\n",
        "app = Flask(__name__)\n",
        "\n",
        "@app.route('/')\n",
        "def home():\n",
        "    return 'This is the Home page.'\n",
        "\n",
        "@app.route('/about')\n",
        "def about():\n",
        "    return 'This is the About page.'\n",
        "\n",
        "@app.route('/go-to-about')\n",
        "def go_to_about():\n",
        "    return redirect(url_for('about'))  # Redirects to the About page\n"
      ],
      "metadata": {
        "id": "Bs0lr_4vJ3Bw"
      },
      "execution_count": null,
      "outputs": []
    },
    {
      "cell_type": "code",
      "source": [
        "<a href=\"{{ url_for('home') }}\">Home</a>\n",
        "<a href=\"{{ url_for('about') }}\">About</a>\n"
      ],
      "metadata": {
        "id": "PxQY0mhrJ6s2"
      },
      "execution_count": null,
      "outputs": []
    },
    {
      "cell_type": "code",
      "source": [
        "@app.route('/user/<username>')\n",
        "def user_profile(username):\n",
        "    return f\"Hello, {username}!\"\n"
      ],
      "metadata": {
        "id": "Dh-S-E1jJ9Zo"
      },
      "execution_count": null,
      "outputs": []
    },
    {
      "cell_type": "code",
      "source": [
        "url_for('user_profile', username='alice')  # Output: '/user/alice'\n"
      ],
      "metadata": {
        "id": "rBJx5wjlKAkn"
      },
      "execution_count": null,
      "outputs": []
    },
    {
      "cell_type": "code",
      "source": [
        "#6 . How do you handle forms in Flask?\n",
        "my_flask_app/\n",
        "├── app.py\n",
        "└── templates/\n",
        "    ├── form.html\n",
        "    └── success.html\n",
        "\n"
      ],
      "metadata": {
        "id": "HFxZswVbKE3H"
      },
      "execution_count": null,
      "outputs": []
    },
    {
      "cell_type": "code",
      "source": [
        "from flask import Flask, request, render_template\n",
        "\n",
        "app = Flask(__name__)\n",
        "\n",
        "@app.route('/')\n",
        "def form():\n",
        "    return render_template('form.html')\n",
        "\n",
        "@app.route('/submit', methods=['POST'])\n",
        "def submit():\n",
        "    name = request.form['name']\n",
        "    return render_template('success.html', name=name)\n",
        "\n",
        "if __name__ == '__main__':\n",
        "    app.run(debug=True)\n"
      ],
      "metadata": {
        "id": "h4RRNaRrKcW2"
      },
      "execution_count": null,
      "outputs": []
    },
    {
      "cell_type": "code",
      "source": [
        "<!DOCTYPE html>\n",
        "<html>\n",
        "<head><title>Form</title></head>\n",
        "<body>\n",
        "    <h1>Enter Your Name</h1>\n",
        "    <form action=\"/submit\" method=\"post\">\n",
        "        <input type=\"text\" name=\"name\" required>\n",
        "        <input type=\"submit\" value=\"Submit\">\n",
        "    </form>\n",
        "</body>\n",
        "</html>\n"
      ],
      "metadata": {
        "id": "kJgsUPlZKfeT"
      },
      "execution_count": null,
      "outputs": []
    },
    {
      "cell_type": "code",
      "source": [
        "<!DOCTYPE html>\n",
        "<html>\n",
        "<head><title>Success</title></head>\n",
        "<body>\n",
        "    <h1>Hello, {{ name }}!</h1>\n",
        "</body>\n",
        "</html>\n"
      ],
      "metadata": {
        "id": "VQnB6NFeKizS"
      },
      "execution_count": null,
      "outputs": []
    },
    {
      "cell_type": "code",
      "source": [
        "@app.route('/submit', methods=['GET', 'POST'])\n"
      ],
      "metadata": {
        "id": "0nfMYfHBKmHO"
      },
      "execution_count": null,
      "outputs": []
    },
    {
      "cell_type": "code",
      "source": [
        "#7 . How can you validate form data in Flask?\n",
        "from flask import Flask, request, render_template\n",
        "\n",
        "app = Flask(__name__)\n",
        "\n",
        "@app.route('/register', methods=['GET', 'POST'])\n",
        "def register():\n",
        "    error = None\n",
        "    if request.method == 'POST':\n",
        "        username = request.form.get('username')\n",
        "        email = request.form.get('email')\n",
        "\n",
        "        if not username:\n",
        "            error = \"Username is required.\"\n",
        "        elif '@' not in email:\n",
        "            error = \"Enter a valid email address.\"\n",
        "        else:\n",
        "            return f\"Welcome, {username}!\"\n",
        "\n",
        "    return render_template('register.html', error=error)\n"
      ],
      "metadata": {
        "id": "vZn0yf8aKo0r"
      },
      "execution_count": null,
      "outputs": []
    },
    {
      "cell_type": "code",
      "source": [
        "<form method=\"post\">\n",
        "    <input type=\"text\" name=\"username\" placeholder=\"Username\"><br>\n",
        "    <input type=\"text\" name=\"email\" placeholder=\"Email\"><br>\n",
        "    <input type=\"submit\" value=\"Register\">\n",
        "</form>\n",
        "{% if error %}\n",
        "<p style=\"color:red\">{{ error }}</p>\n",
        "{% endif %}\n"
      ],
      "metadata": {
        "id": "2AfEacuGK-xl"
      },
      "execution_count": null,
      "outputs": []
    },
    {
      "cell_type": "code",
      "source": [
        "pip install flask-wtf\n"
      ],
      "metadata": {
        "id": "xFESnY5OLCIK"
      },
      "execution_count": null,
      "outputs": []
    },
    {
      "cell_type": "code",
      "source": [
        "from flask import Flask, render_template\n",
        "from flask_wtf import FlaskForm\n",
        "from wtforms import StringField, SubmitField\n",
        "from wtforms.validators import DataRequired, Email\n",
        "\n",
        "app = Flask(__name__)\n",
        "app.secret_key = 'secret-key'  # Needed for CSRF\n",
        "\n",
        "class RegistrationForm(FlaskForm):\n",
        "    username = StringField('Username', validators=[DataRequired()])\n",
        "    email = StringField('Email', validators=[DataRequired(), Email()])\n",
        "    submit = SubmitField('Register')\n",
        "\n",
        "@app.route('/register', methods=['GET', 'POST'])\n",
        "def register():\n",
        "    form = RegistrationForm()\n",
        "    if form.validate_on_submit():\n",
        "        return f\"Welcome, {form.username.data}!\"\n",
        "    return render_template('register.html', form=form)\n"
      ],
      "metadata": {
        "id": "ml_56F9eLFMX"
      },
      "execution_count": null,
      "outputs": []
    },
    {
      "cell_type": "code",
      "source": [
        "<form method=\"post\">\n",
        "    {{ form.hidden_tag() }}\n",
        "    {{ form.username.label }} {{ form.username() }}<br>\n",
        "    {{ form.email.label }} {{ form.email() }}<br>\n",
        "    {{ form.submit() }}\n",
        "    {% for field in form %}\n",
        "        {% for error in field.errors %}\n",
        "            <p style=\"color: red;\">{{ error }}</p>\n",
        "        {% endfor %}\n",
        "    {% endfor %}\n",
        "</form>\n"
      ],
      "metadata": {
        "id": "YBKPIm7DLIIj"
      },
      "execution_count": null,
      "outputs": []
    },
    {
      "cell_type": "code",
      "source": [
        "#8 . How do you manage sessions in Flask?\n",
        "from flask import Flask, session, redirect, url_for, request\n",
        "\n",
        "app = Flask(__name__)\n",
        "app.secret_key = 'your_secret_key'  # Required to use sessions securely\n"
      ],
      "metadata": {
        "id": "NNvBDVeVL42a"
      },
      "execution_count": null,
      "outputs": []
    },
    {
      "cell_type": "code",
      "source": [
        "@app.route('/login', methods=['POST', 'GET'])\n",
        "def login():\n",
        "    if request.method == 'POST':\n",
        "        session['username'] = request.form['username']\n",
        "        return redirect(url_for('profile'))\n",
        "    return '''\n",
        "        <form method=\"post\">\n",
        "            <input type=\"text\" name=\"username\" required>\n",
        "            <input type=\"submit\" value=\"Login\">\n",
        "        </form>\n",
        "    '''\n"
      ],
      "metadata": {
        "id": "ausS7BwVL_Xz"
      },
      "execution_count": null,
      "outputs": []
    },
    {
      "cell_type": "code",
      "source": [
        "@app.route('/profile')\n",
        "def profile():\n",
        "    if 'username' in session:\n",
        "        return f\"Welcome, {session['username']}!\"\n",
        "    return redirect(url_for('login'))\n"
      ],
      "metadata": {
        "id": "cjubt5bxMDse"
      },
      "execution_count": null,
      "outputs": []
    },
    {
      "cell_type": "code",
      "source": [
        "@app.route('/logout')\n",
        "def logout():\n",
        "    session.pop('username', None)\n",
        "    return redirect(url_for('login'))\n"
      ],
      "metadata": {
        "id": "vhAJ0H5bMI3K"
      },
      "execution_count": null,
      "outputs": []
    },
    {
      "cell_type": "code",
      "source": [
        "#9 How do you redirect to a different route in Flask?\n",
        "from flask import Flask, redirect, url_for\n",
        "\n",
        "app = Flask(__name__)\n",
        "\n",
        "@app.route('/')\n",
        "def home():\n",
        "    return 'Welcome to the Home Page'\n",
        "\n",
        "@app.route('/login')\n",
        "def login():\n",
        "    return 'Please log in.'\n",
        "\n",
        "@app.route('/go-to-login')\n",
        "def go_to_login():\n",
        "    return redirect(url_for('login'))\n"
      ],
      "metadata": {
        "id": "liuGciDJMNti"
      },
      "execution_count": null,
      "outputs": []
    },
    {
      "cell_type": "code",
      "source": [
        "from flask import request\n",
        "\n",
        "@app.route('/submit', methods=['POST'])\n",
        "def submit():\n",
        "    # process form data here...\n",
        "    return redirect(url_for('home'))\n"
      ],
      "metadata": {
        "id": "19YlP3_XMyc1"
      },
      "execution_count": null,
      "outputs": []
    },
    {
      "cell_type": "code",
      "source": [
        "@app.route('/user/<username>')\n",
        "def user_profile(username):\n",
        "    return f\"Profile page of {username}\"\n",
        "\n",
        "@app.route('/redirect-user')\n",
        "def redirect_user():\n",
        "    return redirect(url_for('user_profile', username='alice'))\n"
      ],
      "metadata": {
        "id": "0KOKjk_0M3RU"
      },
      "execution_count": null,
      "outputs": []
    },
    {
      "cell_type": "code",
      "source": [
        "#10 . How do you handle errors in Flask (e.g., 404)?\n",
        "from flask import Flask, render_template\n",
        "\n",
        "app = Flask(__name__)\n",
        "\n",
        "@app.errorhandler(404)\n",
        "def page_not_found(e):\n",
        "    return render_template('404.html'), 404\n"
      ],
      "metadata": {
        "id": "UlVGUkpcM8BP"
      },
      "execution_count": null,
      "outputs": []
    },
    {
      "cell_type": "code",
      "source": [
        "@app.errorhandler(500)\n",
        "def internal_server_error(e):\n",
        "    return render_template('500.html'), 500\n"
      ],
      "metadata": {
        "id": "M-Yhnv1pNk_A"
      },
      "execution_count": null,
      "outputs": []
    },
    {
      "cell_type": "code",
      "source": [
        "<!DOCTYPE html>\n",
        "<html>\n",
        "<head><title>Page Not Found</title></head>\n",
        "<body>\n",
        "    <h1>404 - Page Not Found</h1>\n",
        "    <p>Sorry, the page you are looking for does not exist.</p>\n",
        "    <a href=\"{{ url_for('home') }}\">Go Home</a>\n",
        "</body>\n",
        "</html>\n"
      ],
      "metadata": {
        "id": "YKmyKx1ENogh"
      },
      "execution_count": null,
      "outputs": []
    },
    {
      "cell_type": "code",
      "source": [
        "from flask import abort\n",
        "\n",
        "@app.route('/admin')\n",
        "def admin():\n",
        "    abort(403)  # Forbidden\n"
      ],
      "metadata": {
        "id": "Lw59vXrSNsM2"
      },
      "execution_count": null,
      "outputs": []
    },
    {
      "cell_type": "code",
      "source": [
        "#11 . How do you structure a Flask app using Blueprints?\n",
        "my_flask_app/\n",
        "│\n",
        "├── app.py\n",
        "├── /auth/\n",
        "│    ├── __init__.py\n",
        "│    └── routes.py\n",
        "├── /blog/\n",
        "│    ├── __init__.py\n",
        "│    └── routes.py\n",
        "└── /templates/\n",
        "     ├── auth/\n",
        "     └── blog/\n"
      ],
      "metadata": {
        "id": "RlHeb-FRNw9N"
      },
      "execution_count": null,
      "outputs": []
    },
    {
      "cell_type": "code",
      "source": [
        "from flask import Blueprint\n",
        "\n",
        "auth_bp = Blueprint('auth', __name__, url_prefix='/auth')\n",
        "\n",
        "@auth_bp.route('/login')\n",
        "def login():\n",
        "    return \"This is the login page\"\n"
      ],
      "metadata": {
        "id": "9wiEMqU6OMiU"
      },
      "execution_count": null,
      "outputs": []
    },
    {
      "cell_type": "code",
      "source": [
        "from .routes import auth_bp\n"
      ],
      "metadata": {
        "id": "dQPtuUObOQF3"
      },
      "execution_count": null,
      "outputs": []
    },
    {
      "cell_type": "code",
      "source": [
        "from flask import Blueprint\n",
        "\n",
        "blog_bp = Blueprint('blog', __name__, url_prefix='/blog')\n",
        "\n",
        "@blog_bp.route('/')\n",
        "def index():\n",
        "    return \"This is the blog homepage\"\n"
      ],
      "metadata": {
        "id": "EVB2N6oFOT_f"
      },
      "execution_count": null,
      "outputs": []
    },
    {
      "cell_type": "code",
      "source": [
        "from .routes import blog_bp\n"
      ],
      "metadata": {
        "id": "CT_NJH6BOXNd"
      },
      "execution_count": null,
      "outputs": []
    },
    {
      "cell_type": "code",
      "source": [
        "from flask import Flask\n",
        "from auth import auth_bp\n",
        "from blog import blog_bp\n",
        "\n",
        "app = Flask(__name__)\n",
        "\n",
        "app.register_blueprint(auth_bp)\n",
        "app.register_blueprint(blog_bp)\n",
        "\n",
        "if __name__ == '__main__':\n",
        "    app.run(debug=True)\n"
      ],
      "metadata": {
        "id": "EQdYJPtKOd_f"
      },
      "execution_count": null,
      "outputs": []
    },
    {
      "cell_type": "code",
      "source": [
        "#12 , How do you define a custom Jinja filter in Flask?\n",
        "def reverse_string(s):\n",
        "    return s[::-1]\n"
      ],
      "metadata": {
        "id": "ae2qIQodOhrK"
      },
      "execution_count": null,
      "outputs": []
    },
    {
      "cell_type": "code",
      "source": [
        "app = Flask(__name__)\n",
        "app.jinja_env.filters['reverse'] = reverse_string\n"
      ],
      "metadata": {
        "id": "fklfDBgxOz5I"
      },
      "execution_count": null,
      "outputs": []
    },
    {
      "cell_type": "code",
      "source": [
        "{{ \"Hello\" | reverse }}\n"
      ],
      "metadata": {
        "id": "PaQkliYEO3yG"
      },
      "execution_count": null,
      "outputs": []
    },
    {
      "cell_type": "code",
      "source": [
        "from flask import Flask, render_template_string\n",
        "\n",
        "app = Flask(__name__)\n",
        "\n",
        "def reverse_string(s):\n",
        "    return s[::-1]\n",
        "\n",
        "app.jinja_env.filters['reverse'] = reverse_string\n",
        "\n",
        "@app.route('/')\n",
        "def index():\n",
        "    return render_template_string('{{ \"Flask\" | reverse }}')\n",
        "\n",
        "if __name__ == '__main__':\n",
        "    app.run(debug=True)\n"
      ],
      "metadata": {
        "id": "g10r8tHAO9go"
      },
      "execution_count": null,
      "outputs": []
    },
    {
      "cell_type": "code",
      "source": [
        "#13 . How can you redirect with query parameters in Flask?\n",
        "from flask import Flask, redirect, url_for, request\n",
        "\n",
        "app = Flask(__name__)\n",
        "\n",
        "@app.route('/search')\n",
        "def search():\n",
        "    query = request.args.get('q')\n",
        "    return f'Search results for: {query}'\n",
        "\n",
        "@app.route('/go-to-search')\n",
        "def go_to_search():\n",
        "    # Redirect to /search?q=flask\n",
        "    return redirect(url_for('search', q='flask'))\n"
      ],
      "metadata": {
        "id": "JnkMQVm1PBgY"
      },
      "execution_count": null,
      "outputs": []
    },
    {
      "cell_type": "code",
      "source": [
        "return redirect(url_for('search', q='flask', page=2))\n",
        "# Redirects to /search?q=flask&page=2\n"
      ],
      "metadata": {
        "id": "3i7Kg6hbPR7i"
      },
      "execution_count": null,
      "outputs": []
    },
    {
      "cell_type": "code",
      "source": [
        "#14 . How do you return JSON responses in Flask?\n",
        "from flask import Flask, jsonify\n",
        "\n",
        "app = Flask(__name__)\n",
        "\n",
        "@app.route('/api/data')\n",
        "def api_data():\n",
        "    data = {\n",
        "        \"name\": \"Alice\",\n",
        "        \"age\": 30,\n",
        "        \"city\": \"New York\"\n",
        "    }\n",
        "    return jsonify(data)\n"
      ],
      "metadata": {
        "id": "m_si64TvPWau"
      },
      "execution_count": null,
      "outputs": []
    },
    {
      "cell_type": "code",
      "source": [
        "@app.route('/api/info')\n",
        "def api_info():\n",
        "    return {\n",
        "        \"product\": \"Flask\",\n",
        "        \"version\": \"2.0\"\n",
        "    }\n"
      ],
      "metadata": {
        "id": "i7OfDFB-PnWE"
      },
      "execution_count": null,
      "outputs": []
    },
    {
      "cell_type": "code",
      "source": [
        "@app.route('/api/custom')\n",
        "def api_custom():\n",
        "    return jsonify(message=\"Not Found\"), 404\n"
      ],
      "metadata": {
        "id": "xGdAURsTPqx-"
      },
      "execution_count": null,
      "outputs": []
    },
    {
      "cell_type": "code",
      "source": [
        "#15 . How do you capture URL parameters in Flask?\n",
        "from flask import Flask\n",
        "\n",
        "app = Flask(__name__)\n",
        "\n",
        "@app.route('/user/<username>')\n",
        "def show_user(username):\n",
        "    return f'User: {username}'\n"
      ],
      "metadata": {
        "id": "LvKcsx6sPtq6"
      },
      "execution_count": null,
      "outputs": []
    },
    {
      "cell_type": "code",
      "source": [
        "@app.route('/post/<int:post_id>')\n",
        "def show_post(post_id):\n",
        "    return f'Post ID: {post_id}'\n"
      ],
      "metadata": {
        "id": "PQain29YP8Ou"
      },
      "execution_count": null,
      "outputs": []
    },
    {
      "cell_type": "code",
      "source": [
        "@app.route('/order/<int:order_id>/item/<item_name>')\n",
        "def order_item(order_id, item_name):\n",
        "    return f'Order {order_id}, Item: {item_name}'\n"
      ],
      "metadata": {
        "id": "m1li62orP_nq"
      },
      "execution_count": null,
      "outputs": []
    }
  ]
}